{
  "nbformat": 4,
  "nbformat_minor": 0,
  "metadata": {
    "colab": {
      "provenance": []
    },
    "kernelspec": {
      "name": "python3",
      "display_name": "Python 3"
    },
    "language_info": {
      "name": "python"
    }
  },
  "cells": [
    {
      "cell_type": "markdown",
      "source": [
        "# ChatGPT Python Challenges Lvl 1\n",
        "###### Solutions (c'mon at least attempt it first🤨🤨): https://github.com/SaleemZYounus/ChatGPT-Python-Challanges-I\n",
        "## Challenge 1: String Reversal\n",
        "\n",
        "#### Write a function that takes a string as input and returns the reverse of that string. For example, if the input is \"hello\", the output should be \"olleh\"."
      ],
      "metadata": {
        "id": "boT-hmBMt0aX"
      }
    },
    {
      "cell_type": "code",
      "execution_count": null,
      "metadata": {
        "id": "DrKjr-vbtzWD"
      },
      "outputs": [],
      "source": []
    },
    {
      "cell_type": "markdown",
      "source": [
        "## Challenge 2: Palindrome Checker\n",
        "\n",
        "Write a function that takes a string as input and checks whether it is a palindrome (i.e., whether it reads the same forwards and backwards). The function should return True if the input is a palindrome and False otherwise. For example, if the input is \"racecar\", the output should be True.\n"
      ],
      "metadata": {
        "id": "m5DpGA9wt71W"
      }
    },
    {
      "cell_type": "code",
      "source": [],
      "metadata": {
        "id": "RHyFijxVt8DA"
      },
      "execution_count": null,
      "outputs": []
    },
    {
      "cell_type": "markdown",
      "source": [
        "## Challenge 3: Count Vowels\n",
        "\n",
        "Write a function that takes a string as input and counts the number of vowels (a, e, i, o, u) in that string. The function should return the count of vowels. For example, if the input is \"hello\", the output should be 2."
      ],
      "metadata": {
        "id": "u_rKnNtat8Yh"
      }
    },
    {
      "cell_type": "code",
      "source": [],
      "metadata": {
        "id": "Wdpl7iHGt8j3"
      },
      "execution_count": null,
      "outputs": []
    },
    {
      "cell_type": "markdown",
      "source": [
        "## Challenge 4: FizzBuzz\n",
        "\n",
        "Write a program that prints the numbers from 1 to 100. For multiples of three, print \"Fizz\" instead of the number. For multiples of five, print \"Buzz\" instead of the number. For multiples of both three and five, print \"FizzBuzz\" instead of the number.\n"
      ],
      "metadata": {
        "id": "FE2fplaNt8rc"
      }
    },
    {
      "cell_type": "code",
      "source": [],
      "metadata": {
        "id": "CczQj_vlt81A"
      },
      "execution_count": null,
      "outputs": []
    },
    {
      "cell_type": "markdown",
      "source": [
        "## Challenge 5: Fibonacci Sequence\n",
        "\n",
        "Write a function that takes an integer n as input and returns the first n numbers in the Fibonacci sequence. The Fibonacci sequence is defined as follows: the first two numbers are 0 and 1, and each subsequent number is the sum of the two preceding numbers. For example, if the input is 5, the output should be [0, 1, 1, 2, 3]."
      ],
      "metadata": {
        "id": "C3LujSWht9EV"
      }
    },
    {
      "cell_type": "code",
      "source": [],
      "metadata": {
        "id": "dUQdMGist9mN"
      },
      "execution_count": null,
      "outputs": []
    },
    {
      "cell_type": "markdown",
      "source": [
        "## Challenge 6: Prime Number Checker\n",
        "\n",
        "Write a function that takes an integer as input and checks whether it is a prime number (i.e., whether it is only divisible by 1 and itself). The function should return True if the input is a prime number and False otherwise. For example, if the input is 7, the output should be True."
      ],
      "metadata": {
        "id": "pw7H6FsJt-Q-"
      }
    },
    {
      "cell_type": "code",
      "source": [],
      "metadata": {
        "id": "gncLTi-Ht-qb"
      },
      "execution_count": null,
      "outputs": []
    },
    {
      "cell_type": "markdown",
      "source": [
        "## Challenge 7: Caesar Cipher\n",
        "\n",
        "Write a function that takes a string and a key as input and returns the string encrypted using the Caesar cipher. The Caesar cipher works by shifting each letter in the string by the key number of positions in the alphabet. For example, if the input string is \"hello\" and the key is 3, the output should be \"khoor\"."
      ],
      "metadata": {
        "id": "VXMDEnQlt-0x"
      }
    },
    {
      "cell_type": "code",
      "source": [],
      "metadata": {
        "id": "EQQ9UrURt-9b"
      },
      "execution_count": null,
      "outputs": []
    },
    {
      "cell_type": "markdown",
      "source": [
        "## Challenge 8: Matrix Multiplication\n",
        "\n",
        "Write a function that takes two matrices as input and returns their product. Remember that matrix multiplication is only valid if the number of columns in the first matrix is equal to the number of rows in the second matrix."
      ],
      "metadata": {
        "id": "rXo7QmOKt_DJ"
      }
    },
    {
      "cell_type": "code",
      "source": [],
      "metadata": {
        "id": "4hFsIxVot_rg"
      },
      "execution_count": null,
      "outputs": []
    },
    {
      "cell_type": "markdown",
      "source": [
        "## Challenge 9: Binary Search\n",
        "\n",
        "Write a function that takes a sorted list and a target value as input and performs a binary search to find the target value in the list. If the target value is found, the function should return the index of the target value. If the target value is not found, the function should return -1."
      ],
      "metadata": {
        "id": "icHrvUGht_zr"
      }
    },
    {
      "cell_type": "code",
      "source": [],
      "metadata": {
        "id": "rRfbghDmt__z"
      },
      "execution_count": null,
      "outputs": []
    },
    {
      "cell_type": "markdown",
      "source": [
        "## Challenge 10: Merge Sort\n",
        "\n",
        "Write a function that takes a list of integers as input and sorts it using the merge sort algorithm.\n"
      ],
      "metadata": {
        "id": "2THYQvfxuADo"
      }
    },
    {
      "cell_type": "code",
      "source": [],
      "metadata": {
        "id": "wJjTLqKLuAm_"
      },
      "execution_count": null,
      "outputs": []
    }
  ]
}